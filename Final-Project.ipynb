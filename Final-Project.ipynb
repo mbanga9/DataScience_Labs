{
 "cells": [
  {
   "cell_type": "markdown",
   "metadata": {},
   "source": [
    "# DS Lab - Final Assignment: Robust Journey Planning #"
   ]
  },
  {
   "cell_type": "markdown",
   "metadata": {},
   "source": [
    "## Load the data"
   ]
  },
  {
   "cell_type": "code",
   "execution_count": 2,
   "metadata": {
    "collapsed": true
   },
   "outputs": [],
   "source": [
    "import pandas as pd\n",
    "import glob"
   ]
  },
  {
   "cell_type": "code",
   "execution_count": 3,
   "metadata": {
    "collapsed": true
   },
   "outputs": [],
   "source": [
    "#path on my computer of the files.\n",
    "path = \"2017-09/*.csv\""
   ]
  },
  {
   "cell_type": "code",
   "execution_count": 4,
   "metadata": {
    "collapsed": true
   },
   "outputs": [],
   "source": [
    "#useful list\n",
    "data = []\n",
    "#read each csv we had.\n",
    "for fname in sorted(glob.glob(path)):\n",
    "    d = pd.read_csv(fname, sep=';',low_memory=False)\n",
    "    data.append(d)\n",
    "    \n",
    "#process the data from the csv files to a dataframe.\n",
    "data = pd.concat(data)\n",
    "data = pd.DataFrame(data)\n",
    "data = data.reset_index()\n",
    "data = data.drop(['index'], axis = 1)"
   ]
  },
  {
   "cell_type": "code",
   "execution_count": 5,
   "metadata": {
    "collapsed": true
   },
   "outputs": [],
   "source": [
    "# Renaming the columns of the dataframe\n",
    "data.columns = ['trip_date', 'trip_id', 'operator_id', 'operator_abk', \n",
    "                'operator_name', 'product_id', 'line_id', 'line_text',\n",
    "                'circulation_id', 'transport_text', 'additional_trip',\n",
    "                'failed', 'stop_id', 'stop_name', 'scheduled_arrival_time',\n",
    "                'actual_arrival_time', 'actual_arrival_time_status', 'scheduled_departure_time',\n",
    "                'actual_departure_time',  'actual_departure_time_status', 'no_stop']"
   ]
  },
  {
   "cell_type": "code",
   "execution_count": 6,
   "metadata": {},
   "outputs": [
    {
     "data": {
      "text/html": [
       "<div>\n",
       "<style>\n",
       "    .dataframe thead tr:only-child th {\n",
       "        text-align: right;\n",
       "    }\n",
       "\n",
       "    .dataframe thead th {\n",
       "        text-align: left;\n",
       "    }\n",
       "\n",
       "    .dataframe tbody tr th {\n",
       "        vertical-align: top;\n",
       "    }\n",
       "</style>\n",
       "<table border=\"1\" class=\"dataframe\">\n",
       "  <thead>\n",
       "    <tr style=\"text-align: right;\">\n",
       "      <th></th>\n",
       "      <th>trip_date</th>\n",
       "      <th>trip_id</th>\n",
       "      <th>operator_id</th>\n",
       "      <th>operator_abk</th>\n",
       "      <th>operator_name</th>\n",
       "      <th>product_id</th>\n",
       "      <th>line_id</th>\n",
       "      <th>line_text</th>\n",
       "      <th>circulation_id</th>\n",
       "      <th>transport_text</th>\n",
       "      <th>...</th>\n",
       "      <th>failed</th>\n",
       "      <th>stop_id</th>\n",
       "      <th>stop_name</th>\n",
       "      <th>scheduled_arrival_time</th>\n",
       "      <th>actual_arrival_time</th>\n",
       "      <th>actual_arrival_time_status</th>\n",
       "      <th>scheduled_departure_time</th>\n",
       "      <th>actual_departure_time</th>\n",
       "      <th>actual_departure_time_status</th>\n",
       "      <th>no_stop</th>\n",
       "    </tr>\n",
       "  </thead>\n",
       "  <tbody>\n",
       "    <tr>\n",
       "      <th>0</th>\n",
       "      <td>13.09.2017</td>\n",
       "      <td>80:06____:17010:000</td>\n",
       "      <td>80:06____</td>\n",
       "      <td>DB</td>\n",
       "      <td>DB Regio AG</td>\n",
       "      <td>Zug</td>\n",
       "      <td>17010</td>\n",
       "      <td>RE</td>\n",
       "      <td>NaN</td>\n",
       "      <td>RE</td>\n",
       "      <td>...</td>\n",
       "      <td>False</td>\n",
       "      <td>8500090</td>\n",
       "      <td>Basel Bad Bf</td>\n",
       "      <td>NaN</td>\n",
       "      <td>NaN</td>\n",
       "      <td>PROGNOSE</td>\n",
       "      <td>13.09.2017 05:45</td>\n",
       "      <td>13.09.2017 05:45:00</td>\n",
       "      <td>PROGNOSE</td>\n",
       "      <td>False</td>\n",
       "    </tr>\n",
       "    <tr>\n",
       "      <th>1</th>\n",
       "      <td>13.09.2017</td>\n",
       "      <td>80:06____:17012:000</td>\n",
       "      <td>80:06____</td>\n",
       "      <td>DB</td>\n",
       "      <td>DB Regio AG</td>\n",
       "      <td>Zug</td>\n",
       "      <td>17012</td>\n",
       "      <td>RE</td>\n",
       "      <td>NaN</td>\n",
       "      <td>RE</td>\n",
       "      <td>...</td>\n",
       "      <td>False</td>\n",
       "      <td>8500090</td>\n",
       "      <td>Basel Bad Bf</td>\n",
       "      <td>NaN</td>\n",
       "      <td>NaN</td>\n",
       "      <td>PROGNOSE</td>\n",
       "      <td>13.09.2017 06:34</td>\n",
       "      <td>13.09.2017 06:34:00</td>\n",
       "      <td>PROGNOSE</td>\n",
       "      <td>False</td>\n",
       "    </tr>\n",
       "    <tr>\n",
       "      <th>2</th>\n",
       "      <td>13.09.2017</td>\n",
       "      <td>80:06____:17013:000</td>\n",
       "      <td>80:06____</td>\n",
       "      <td>DB</td>\n",
       "      <td>DB Regio AG</td>\n",
       "      <td>Zug</td>\n",
       "      <td>17013</td>\n",
       "      <td>RE</td>\n",
       "      <td>NaN</td>\n",
       "      <td>RE</td>\n",
       "      <td>...</td>\n",
       "      <td>False</td>\n",
       "      <td>8500090</td>\n",
       "      <td>Basel Bad Bf</td>\n",
       "      <td>13.09.2017 06:25</td>\n",
       "      <td>13.09.2017 06:28:00</td>\n",
       "      <td>PROGNOSE</td>\n",
       "      <td>NaN</td>\n",
       "      <td>NaN</td>\n",
       "      <td>PROGNOSE</td>\n",
       "      <td>False</td>\n",
       "    </tr>\n",
       "    <tr>\n",
       "      <th>3</th>\n",
       "      <td>13.09.2017</td>\n",
       "      <td>80:06____:17014:000</td>\n",
       "      <td>80:06____</td>\n",
       "      <td>DB</td>\n",
       "      <td>DB Regio AG</td>\n",
       "      <td>Zug</td>\n",
       "      <td>17014</td>\n",
       "      <td>RE</td>\n",
       "      <td>NaN</td>\n",
       "      <td>RE</td>\n",
       "      <td>...</td>\n",
       "      <td>False</td>\n",
       "      <td>8500090</td>\n",
       "      <td>Basel Bad Bf</td>\n",
       "      <td>NaN</td>\n",
       "      <td>NaN</td>\n",
       "      <td>PROGNOSE</td>\n",
       "      <td>13.09.2017 09:48</td>\n",
       "      <td>13.09.2017 09:48:00</td>\n",
       "      <td>PROGNOSE</td>\n",
       "      <td>False</td>\n",
       "    </tr>\n",
       "    <tr>\n",
       "      <th>4</th>\n",
       "      <td>13.09.2017</td>\n",
       "      <td>80:06____:17015:000</td>\n",
       "      <td>80:06____</td>\n",
       "      <td>DB</td>\n",
       "      <td>DB Regio AG</td>\n",
       "      <td>Zug</td>\n",
       "      <td>17015</td>\n",
       "      <td>RE</td>\n",
       "      <td>NaN</td>\n",
       "      <td>RE</td>\n",
       "      <td>...</td>\n",
       "      <td>False</td>\n",
       "      <td>8500090</td>\n",
       "      <td>Basel Bad Bf</td>\n",
       "      <td>13.09.2017 08:06</td>\n",
       "      <td>13.09.2017 08:11:00</td>\n",
       "      <td>PROGNOSE</td>\n",
       "      <td>NaN</td>\n",
       "      <td>NaN</td>\n",
       "      <td>PROGNOSE</td>\n",
       "      <td>False</td>\n",
       "    </tr>\n",
       "  </tbody>\n",
       "</table>\n",
       "<p>5 rows × 21 columns</p>\n",
       "</div>"
      ],
      "text/plain": [
       "    trip_date              trip_id operator_id operator_abk operator_name  \\\n",
       "0  13.09.2017  80:06____:17010:000   80:06____           DB   DB Regio AG   \n",
       "1  13.09.2017  80:06____:17012:000   80:06____           DB   DB Regio AG   \n",
       "2  13.09.2017  80:06____:17013:000   80:06____           DB   DB Regio AG   \n",
       "3  13.09.2017  80:06____:17014:000   80:06____           DB   DB Regio AG   \n",
       "4  13.09.2017  80:06____:17015:000   80:06____           DB   DB Regio AG   \n",
       "\n",
       "  product_id line_id line_text circulation_id transport_text   ...    failed  \\\n",
       "0        Zug   17010        RE            NaN             RE   ...     False   \n",
       "1        Zug   17012        RE            NaN             RE   ...     False   \n",
       "2        Zug   17013        RE            NaN             RE   ...     False   \n",
       "3        Zug   17014        RE            NaN             RE   ...     False   \n",
       "4        Zug   17015        RE            NaN             RE   ...     False   \n",
       "\n",
       "   stop_id     stop_name scheduled_arrival_time  actual_arrival_time  \\\n",
       "0  8500090  Basel Bad Bf                    NaN                  NaN   \n",
       "1  8500090  Basel Bad Bf                    NaN                  NaN   \n",
       "2  8500090  Basel Bad Bf       13.09.2017 06:25  13.09.2017 06:28:00   \n",
       "3  8500090  Basel Bad Bf                    NaN                  NaN   \n",
       "4  8500090  Basel Bad Bf       13.09.2017 08:06  13.09.2017 08:11:00   \n",
       "\n",
       "  actual_arrival_time_status scheduled_departure_time actual_departure_time  \\\n",
       "0                   PROGNOSE         13.09.2017 05:45   13.09.2017 05:45:00   \n",
       "1                   PROGNOSE         13.09.2017 06:34   13.09.2017 06:34:00   \n",
       "2                   PROGNOSE                      NaN                   NaN   \n",
       "3                   PROGNOSE         13.09.2017 09:48   13.09.2017 09:48:00   \n",
       "4                   PROGNOSE                      NaN                   NaN   \n",
       "\n",
       "  actual_departure_time_status no_stop  \n",
       "0                     PROGNOSE   False  \n",
       "1                     PROGNOSE   False  \n",
       "2                     PROGNOSE   False  \n",
       "3                     PROGNOSE   False  \n",
       "4                     PROGNOSE   False  \n",
       "\n",
       "[5 rows x 21 columns]"
      ]
     },
     "execution_count": 6,
     "metadata": {},
     "output_type": "execute_result"
    }
   ],
   "source": [
    "#check the tail.\n",
    "data.head()"
   ]
  },
  {
   "cell_type": "code",
   "execution_count": 7,
   "metadata": {},
   "outputs": [
    {
     "data": {
      "text/html": [
       "<div>\n",
       "<style>\n",
       "    .dataframe thead tr:only-child th {\n",
       "        text-align: right;\n",
       "    }\n",
       "\n",
       "    .dataframe thead th {\n",
       "        text-align: left;\n",
       "    }\n",
       "\n",
       "    .dataframe tbody tr th {\n",
       "        vertical-align: top;\n",
       "    }\n",
       "</style>\n",
       "<table border=\"1\" class=\"dataframe\">\n",
       "  <thead>\n",
       "    <tr style=\"text-align: right;\">\n",
       "      <th></th>\n",
       "      <th>trip_date</th>\n",
       "      <th>trip_id</th>\n",
       "      <th>operator_id</th>\n",
       "      <th>operator_abk</th>\n",
       "      <th>operator_name</th>\n",
       "      <th>product_id</th>\n",
       "      <th>line_id</th>\n",
       "      <th>line_text</th>\n",
       "      <th>circulation_id</th>\n",
       "      <th>transport_text</th>\n",
       "      <th>...</th>\n",
       "      <th>failed</th>\n",
       "      <th>stop_id</th>\n",
       "      <th>stop_name</th>\n",
       "      <th>scheduled_arrival_time</th>\n",
       "      <th>actual_arrival_time</th>\n",
       "      <th>actual_arrival_time_status</th>\n",
       "      <th>scheduled_departure_time</th>\n",
       "      <th>actual_departure_time</th>\n",
       "      <th>actual_departure_time_status</th>\n",
       "      <th>no_stop</th>\n",
       "    </tr>\n",
       "  </thead>\n",
       "  <tbody>\n",
       "    <tr>\n",
       "      <th>14967129</th>\n",
       "      <td>30.09.2017</td>\n",
       "      <td>85:97:9:000</td>\n",
       "      <td>85:97</td>\n",
       "      <td>TRAVYS-ysc</td>\n",
       "      <td>Transports Vallée de Joux-Yverdon-Ste-Croix (Y...</td>\n",
       "      <td>Zug</td>\n",
       "      <td>9</td>\n",
       "      <td>R</td>\n",
       "      <td>NaN</td>\n",
       "      <td>R</td>\n",
       "      <td>...</td>\n",
       "      <td>False</td>\n",
       "      <td>8504294</td>\n",
       "      <td>Vuiteboeuf</td>\n",
       "      <td>30.09.2017 05:57</td>\n",
       "      <td>NaN</td>\n",
       "      <td>UNBEKANNT</td>\n",
       "      <td>30.09.2017 05:57</td>\n",
       "      <td>NaN</td>\n",
       "      <td>UNBEKANNT</td>\n",
       "      <td>False</td>\n",
       "    </tr>\n",
       "    <tr>\n",
       "      <th>14967130</th>\n",
       "      <td>30.09.2017</td>\n",
       "      <td>85:97:9:000</td>\n",
       "      <td>85:97</td>\n",
       "      <td>TRAVYS-ysc</td>\n",
       "      <td>Transports Vallée de Joux-Yverdon-Ste-Croix (Y...</td>\n",
       "      <td>Zug</td>\n",
       "      <td>9</td>\n",
       "      <td>R</td>\n",
       "      <td>NaN</td>\n",
       "      <td>R</td>\n",
       "      <td>...</td>\n",
       "      <td>False</td>\n",
       "      <td>8504295</td>\n",
       "      <td>Baulmes</td>\n",
       "      <td>30.09.2017 06:01</td>\n",
       "      <td>NaN</td>\n",
       "      <td>UNBEKANNT</td>\n",
       "      <td>30.09.2017 06:01</td>\n",
       "      <td>NaN</td>\n",
       "      <td>UNBEKANNT</td>\n",
       "      <td>False</td>\n",
       "    </tr>\n",
       "    <tr>\n",
       "      <th>14967131</th>\n",
       "      <td>30.09.2017</td>\n",
       "      <td>85:97:9:000</td>\n",
       "      <td>85:97</td>\n",
       "      <td>TRAVYS-ysc</td>\n",
       "      <td>Transports Vallée de Joux-Yverdon-Ste-Croix (Y...</td>\n",
       "      <td>Zug</td>\n",
       "      <td>9</td>\n",
       "      <td>R</td>\n",
       "      <td>NaN</td>\n",
       "      <td>R</td>\n",
       "      <td>...</td>\n",
       "      <td>False</td>\n",
       "      <td>8504296</td>\n",
       "      <td>Six-Fontaines</td>\n",
       "      <td>30.09.2017 06:05</td>\n",
       "      <td>NaN</td>\n",
       "      <td>UNBEKANNT</td>\n",
       "      <td>30.09.2017 06:05</td>\n",
       "      <td>NaN</td>\n",
       "      <td>UNBEKANNT</td>\n",
       "      <td>False</td>\n",
       "    </tr>\n",
       "    <tr>\n",
       "      <th>14967132</th>\n",
       "      <td>30.09.2017</td>\n",
       "      <td>85:97:9:000</td>\n",
       "      <td>85:97</td>\n",
       "      <td>TRAVYS-ysc</td>\n",
       "      <td>Transports Vallée de Joux-Yverdon-Ste-Croix (Y...</td>\n",
       "      <td>Zug</td>\n",
       "      <td>9</td>\n",
       "      <td>R</td>\n",
       "      <td>NaN</td>\n",
       "      <td>R</td>\n",
       "      <td>...</td>\n",
       "      <td>False</td>\n",
       "      <td>8504297</td>\n",
       "      <td>Trois-Villes</td>\n",
       "      <td>30.09.2017 06:12</td>\n",
       "      <td>NaN</td>\n",
       "      <td>UNBEKANNT</td>\n",
       "      <td>30.09.2017 06:12</td>\n",
       "      <td>NaN</td>\n",
       "      <td>UNBEKANNT</td>\n",
       "      <td>False</td>\n",
       "    </tr>\n",
       "    <tr>\n",
       "      <th>14967133</th>\n",
       "      <td>30.09.2017</td>\n",
       "      <td>85:97:9:000</td>\n",
       "      <td>85:97</td>\n",
       "      <td>TRAVYS-ysc</td>\n",
       "      <td>Transports Vallée de Joux-Yverdon-Ste-Croix (Y...</td>\n",
       "      <td>Zug</td>\n",
       "      <td>9</td>\n",
       "      <td>R</td>\n",
       "      <td>NaN</td>\n",
       "      <td>R</td>\n",
       "      <td>...</td>\n",
       "      <td>False</td>\n",
       "      <td>8504298</td>\n",
       "      <td>Ste-Croix</td>\n",
       "      <td>30.09.2017 06:21</td>\n",
       "      <td>NaN</td>\n",
       "      <td>UNBEKANNT</td>\n",
       "      <td>NaN</td>\n",
       "      <td>NaN</td>\n",
       "      <td>PROGNOSE</td>\n",
       "      <td>False</td>\n",
       "    </tr>\n",
       "  </tbody>\n",
       "</table>\n",
       "<p>5 rows × 21 columns</p>\n",
       "</div>"
      ],
      "text/plain": [
       "           trip_date      trip_id operator_id operator_abk  \\\n",
       "14967129  30.09.2017  85:97:9:000       85:97   TRAVYS-ysc   \n",
       "14967130  30.09.2017  85:97:9:000       85:97   TRAVYS-ysc   \n",
       "14967131  30.09.2017  85:97:9:000       85:97   TRAVYS-ysc   \n",
       "14967132  30.09.2017  85:97:9:000       85:97   TRAVYS-ysc   \n",
       "14967133  30.09.2017  85:97:9:000       85:97   TRAVYS-ysc   \n",
       "\n",
       "                                              operator_name product_id  \\\n",
       "14967129  Transports Vallée de Joux-Yverdon-Ste-Croix (Y...        Zug   \n",
       "14967130  Transports Vallée de Joux-Yverdon-Ste-Croix (Y...        Zug   \n",
       "14967131  Transports Vallée de Joux-Yverdon-Ste-Croix (Y...        Zug   \n",
       "14967132  Transports Vallée de Joux-Yverdon-Ste-Croix (Y...        Zug   \n",
       "14967133  Transports Vallée de Joux-Yverdon-Ste-Croix (Y...        Zug   \n",
       "\n",
       "         line_id line_text circulation_id transport_text   ...    failed  \\\n",
       "14967129       9         R            NaN              R   ...     False   \n",
       "14967130       9         R            NaN              R   ...     False   \n",
       "14967131       9         R            NaN              R   ...     False   \n",
       "14967132       9         R            NaN              R   ...     False   \n",
       "14967133       9         R            NaN              R   ...     False   \n",
       "\n",
       "          stop_id      stop_name scheduled_arrival_time actual_arrival_time  \\\n",
       "14967129  8504294     Vuiteboeuf       30.09.2017 05:57                 NaN   \n",
       "14967130  8504295        Baulmes       30.09.2017 06:01                 NaN   \n",
       "14967131  8504296  Six-Fontaines       30.09.2017 06:05                 NaN   \n",
       "14967132  8504297   Trois-Villes       30.09.2017 06:12                 NaN   \n",
       "14967133  8504298      Ste-Croix       30.09.2017 06:21                 NaN   \n",
       "\n",
       "         actual_arrival_time_status scheduled_departure_time  \\\n",
       "14967129                  UNBEKANNT         30.09.2017 05:57   \n",
       "14967130                  UNBEKANNT         30.09.2017 06:01   \n",
       "14967131                  UNBEKANNT         30.09.2017 06:05   \n",
       "14967132                  UNBEKANNT         30.09.2017 06:12   \n",
       "14967133                  UNBEKANNT                      NaN   \n",
       "\n",
       "         actual_departure_time actual_departure_time_status no_stop  \n",
       "14967129                   NaN                    UNBEKANNT   False  \n",
       "14967130                   NaN                    UNBEKANNT   False  \n",
       "14967131                   NaN                    UNBEKANNT   False  \n",
       "14967132                   NaN                    UNBEKANNT   False  \n",
       "14967133                   NaN                     PROGNOSE   False  \n",
       "\n",
       "[5 rows x 21 columns]"
      ]
     },
     "execution_count": 7,
     "metadata": {},
     "output_type": "execute_result"
    }
   ],
   "source": [
    "# Check the tail\n",
    "data.tail()"
   ]
  },
  {
   "cell_type": "code",
   "execution_count": 20,
   "metadata": {},
   "outputs": [
    {
     "data": {
      "text/plain": [
       "14967134"
      ]
     },
     "execution_count": 20,
     "metadata": {},
     "output_type": "execute_result"
    }
   ],
   "source": [
    "len(data)"
   ]
  },
  {
   "cell_type": "code",
   "execution_count": null,
   "metadata": {
    "collapsed": true
   },
   "outputs": [],
   "source": [
    "len(data.loc[data['actual_arrival_time_status'] == 'GESCHAETZT'])"
   ]
  },
  {
   "cell_type": "code",
   "execution_count": 15,
   "metadata": {},
   "outputs": [
    {
     "data": {
      "text/plain": [
       "array(['PROGNOSE', 'UNBEKANNT', 'GESCHAETZT', 'REAL'], dtype=object)"
      ]
     },
     "execution_count": 15,
     "metadata": {},
     "output_type": "execute_result"
    }
   ],
   "source": [
    "data['actual_arrival_time_status'].unique()"
   ]
  },
  {
   "cell_type": "code",
   "execution_count": 11,
   "metadata": {},
   "outputs": [
    {
     "data": {
      "text/plain": [
       "1769580"
      ]
     },
     "execution_count": 11,
     "metadata": {},
     "output_type": "execute_result"
    }
   ],
   "source": [
    "len(data.loc[(data['actual_arrival_time_status'] == 'GESCHAETZT') & \n",
    "             (data['actual_arrival_time'].isnull() == False)])"
   ]
  },
  {
   "cell_type": "code",
   "execution_count": 12,
   "metadata": {},
   "outputs": [
    {
     "data": {
      "text/plain": [
       "3183679"
      ]
     },
     "execution_count": 12,
     "metadata": {},
     "output_type": "execute_result"
    }
   ],
   "source": [
    "len(data.loc[data['transport_text'].isnull() == False])"
   ]
  },
  {
   "cell_type": "code",
   "execution_count": 13,
   "metadata": {},
   "outputs": [
    {
     "data": {
      "text/plain": [
       "2710581"
      ]
     },
     "execution_count": 13,
     "metadata": {},
     "output_type": "execute_result"
    }
   ],
   "source": [
    "len(data.loc[(data['product_id'] == 'Zug') & (data['transport_text'].isnull() == False)])"
   ]
  },
  {
   "cell_type": "code",
   "execution_count": 14,
   "metadata": {},
   "outputs": [
    {
     "data": {
      "text/plain": [
       "array(['TGV', 'EC', 'IR'], dtype=object)"
      ]
     },
     "execution_count": 14,
     "metadata": {},
     "output_type": "execute_result"
    }
   ],
   "source": [
    "# \n",
    "data.loc[(data['product_id'].isnull()) & (data['transport_text'].isnull() == False)]['transport_text'].unique()"
   ]
  }
 ],
 "metadata": {
  "kernelspec": {
   "display_name": "Python 3",
   "language": "python",
   "name": "python3"
  },
  "language_info": {
   "codemirror_mode": {
    "name": "ipython",
    "version": 3
   },
   "file_extension": ".py",
   "mimetype": "text/x-python",
   "name": "python",
   "nbconvert_exporter": "python",
   "pygments_lexer": "ipython3",
   "version": "3.6.1"
  }
 },
 "nbformat": 4,
 "nbformat_minor": 2
}
